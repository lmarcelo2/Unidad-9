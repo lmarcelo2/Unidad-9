{
 "cells": [
  {
   "cell_type": "markdown",
   "metadata": {
    "collapsed": true
   },
   "source": [
    "# Fundamentos de Tratamiento de Datos para Data Science"
   ]
  },
  {
   "cell_type": "markdown",
   "metadata": {
    "collapsed": true
   },
   "source": [
    "## Caso Práctico: Ejercicio 1"
   ]
  },
  {
   "cell_type": "code",
   "execution_count": 1,
   "metadata": {
    "collapsed": true
   },
   "outputs": [],
   "source": [
    "def clean_tweets(path):\n",
    "    Text_source=open(path)               # apertura del archivo para su lectura\n",
    "    text=Text_source.read()\n",
    "    delimitador=\"\\\"text\\\":\\\"\"\n",
    "    list1=text.split(delimitador)        # creamos una lista delimitando los commienzos de cada tweet.\n",
    "    n=0\n",
    "    for a in list1:                      # Bucle que recorre todos los elementos de la lista\n",
    "       g=a.find (\"\\\"\")                   # Delimitamos el final de cada tweet con la posición de las siguientes comillas.\n",
    "       a=a[0:g]                          # Truncamos la cadena de caracteres de cada elemento de la lista\n",
    "       list1[n]=a                        # Almacenamos de nuevo el elemento limpio en la lista original\n",
    "       n=n+1 \n",
    "    return list1[1:]                     # Eliminamos el primer elemento de la lista antes de retornar\n",
    "    "
   ]
  },
  {
   "cell_type": "code",
   "execution_count": 2,
   "metadata": {
    "collapsed": true
   },
   "outputs": [],
   "source": [
    "# Definimos los paths de los archivos a procesar:\n",
    "path=\"C:\\\\Users\\\\Media\\\\Google Drive\\\\personal\\\\Formación\\\\MASTER\\\\Fundamentos\\\\Caso Práctico\\\\salida_tweets.txt\"\n",
    "path2=\"C:\\\\Users\\\\Media\\\\Google Drive\\\\personal\\\\Formación\\\\MASTER\\\\Fundamentos\\\\Caso Práctico\\\\Sentimientos.txt\"\n",
    "\n",
    "\n",
    "list_of_tweets=clean_tweets(path)         # Almacenamos los tweets en una lista,llamando a la función \"clean_tweets(Path)\"\n",
    "\n",
    "# Utilizamos el código del ejemplo para almacenar los sentimientos en el diccionario \"valores\"\n",
    "\n",
    "sentimientos=open(path2)                  \n",
    "valores ={}\n",
    "for linea in sentimientos:\n",
    "    termino, valor = linea.split(\"\\t\")\n",
    "    valores[termino]= int(valor)"
   ]
  },
  {
   "cell_type": "code",
   "execution_count": 3,
   "metadata": {},
   "outputs": [
    {
     "name": "stdout",
     "output_type": "stream",
     "text": [
      "EL SIGUIENTE TWEET: @hailee_danielsx I'm not mean cuz I'm ugly so ya TIENE UN SENTIMIENTO ASOCIADO DE: -3\n",
      "EL SIGUIENTE TWEET: You better believe your beautiful TIENE UN SENTIMIENTO ASOCIADO DE: 2\n",
      "EL SIGUIENTE TWEET: RT @Nashgrier: Happy Birthday to one of my best friends @jackgilinsky Can't wait till you're out in LA! Have a good one! TIENE UN SENTIMIENTO ASOCIADO DE: 6\n",
      "EL SIGUIENTE TWEET: Happy Birthday to one of my best friends @jackgilinsky Can't wait till you're out in LA! Have a good one! TIENE UN SENTIMIENTO ASOCIADO DE: 6\n",
      "EL SIGUIENTE TWEET: I liked a @YouTube video from @jordzcreations http:\\/\\/t.co\\/YJhzCimXHG TOP 5 RATED PLAYERS IN FIFA15! (MESSI, RONALDO &amp; IBRA!) TIENE UN SENTIMIENTO ASOCIADO DE: 2\n",
      "EL SIGUIENTE TWEET: RT @disneywords: Dreams are as real as you want them to be. Dreams are as real as the sky and the sea. \\u2013Peter Pan (Disney Dreams) TIENE UN SENTIMIENTO ASOCIADO DE: 1\n",
      "EL SIGUIENTE TWEET: Dreams are as real as you want them to be. Dreams are as real as the sky and the sea. \\u2013Peter Pan (Disney Dreams) TIENE UN SENTIMIENTO ASOCIADO DE: 1\n",
      "EL SIGUIENTE TWEET: @Aurinth I think it's possible, and sometimes scenes like that can work as long as they're bookended by some sort of development. TIENE UN SENTIMIENTO ASOCIADO DE: 2\n",
      "EL SIGUIENTE TWEET: RT @JackAllTimeLow: I am drunk in my cab and @5SOS came on radio. I came too TIENE UN SENTIMIENTO ASOCIADO DE: -2\n",
      "EL SIGUIENTE TWEET: I am drunk in my cab and @5SOS came on radio. I came too TIENE UN SENTIMIENTO ASOCIADO DE: -2\n",
      "EL SIGUIENTE TWEET: @SingleJoCoffee I like to think i do everything like a rebellious poet..... TIENE UN SENTIMIENTO ASOCIADO DE: 2\n",
      "EL SIGUIENTE TWEET: Need to get this fresh trim.. Can\\u2019t be boarding plane to more looking like struggle TIENE UN SENTIMIENTO ASOCIADO DE: 3\n",
      "EL SIGUIENTE TWEET: Is this not the best idea we've thought of yet? #Dominos #Sandwich http:\\/\\/t.co\\/KYIBYZW9aV TIENE UN SENTIMIENTO ASOCIADO DE: 3\n",
      "EL SIGUIENTE TWEET: RT @cthagod: I keep making the mistake of talking to people who don't know what they are talking about....... TIENE UN SENTIMIENTO ASOCIADO DE: -2\n",
      "EL SIGUIENTE TWEET: I keep making the mistake of talking to people who don't know what they are talking about....... TIENE UN SENTIMIENTO ASOCIADO DE: -2\n",
      "EL SIGUIENTE TWEET: Why waste you time on someone when they don't give you any of their time TIENE UN SENTIMIENTO ASOCIADO DE: -1\n",
      "EL SIGUIENTE TWEET: RT @connpost: #Milford school janitor arrested for leaving gifts, notes for student http:\\/\\/t.co\\/rjv7HybuFG TIENE UN SENTIMIENTO ASOCIADO DE: -3\n",
      "EL SIGUIENTE TWEET: #Milford school janitor arrested for leaving gifts, notes for student http:\\/\\/t.co\\/rjv7HybuFG TIENE UN SENTIMIENTO ASOCIADO DE: -3\n",
      "EL SIGUIENTE TWEET: Ur sick bud TIENE UN SENTIMIENTO ASOCIADO DE: -2\n",
      "EL SIGUIENTE TWEET: Sneezing like hell TIENE UN SENTIMIENTO ASOCIADO DE: 2\n",
      "EL SIGUIENTE TWEET: RT @Louis_Tomlinson: The support for the new album and Fireproof has been amazing ! So so excited for you all to hear more ! Loveeeee TIENE UN SENTIMIENTO ASOCIADO DE: 9\n",
      "EL SIGUIENTE TWEET: The support for the new album and Fireproof has been amazing ! So so excited for you all to hear more ! Loveeeee TIENE UN SENTIMIENTO ASOCIADO DE: 9\n",
      "EL SIGUIENTE TWEET: No trato de ser mejor que nadie, trato de ser lo mejor que te ha sucedido en la vida. TIENE UN SENTIMIENTO ASOCIADO DE: 2\n",
      "EL SIGUIENTE TWEET: @Mugsy4Fly LOL! But she's a famous twitter personality!!! (It was over Sarah Palin,who I really like - but don't think should run for POTUS) TIENE UN SENTIMIENTO ASOCIADO DE: 2\n",
      "EL SIGUIENTE TWEET: @Ru_ru50 ill beat that ass 19 times tonight \\ud83d\\ude09\\ud83d\\ude0f\\ud83d\\ude18 TIENE UN SENTIMIENTO ASOCIADO DE: -6\n",
      "EL SIGUIENTE TWEET: RT @jmfmoran: Qu\\u00e9 buena idea llamar al FBI. Total, EEUU no abusa de pa\\u00edses a los que da ayuda policial, \\u00bfcierto Colombia y M\\u00e9xico? http:\\/\\/t\\u2026 TIENE UN SENTIMIENTO ASOCIADO DE: -1\n",
      "EL SIGUIENTE TWEET: Qu\\u00e9 buena idea llamar al FBI. Total, EEUU no abusa de pa\\u00edses a los que da ayuda policial, \\u00bfcierto Colombia y M\\u00e9xico? http:\\/\\/t.co\\/pTAYMnBJQG TIENE UN SENTIMIENTO ASOCIADO DE: -1\n",
      "EL SIGUIENTE TWEET: RT @onlyxibest: @LvBradshaw @Monarch544 it will be the highlight of my week #wino \\ud83c\\udf77 TIENE UN SENTIMIENTO ASOCIADO DE: 2\n",
      "EL SIGUIENTE TWEET: @LvBradshaw @Monarch544 it will be the highlight of my week #wino \\ud83c\\udf77 TIENE UN SENTIMIENTO ASOCIADO DE: 2\n",
      "EL SIGUIENTE TWEET: That's the downside of evening shift. When you work that day, your whole day revolves around it. TIENE UN SENTIMIENTO ASOCIADO DE: -2\n",
      "EL SIGUIENTE TWEET: We\\u2019re very proud to host tonight's \\u201cEvening With The Mayor\\u201d event at the Greystone Mansion. We are looking forward to seeing you there! TIENE UN SENTIMIENTO ASOCIADO DE: 2\n",
      "EL SIGUIENTE TWEET: RT @TanPajeras: Pobre, se cree sirena y no llega a bagre. TIENE UN SENTIMIENTO ASOCIADO DE: -1\n",
      "EL SIGUIENTE TWEET: Pobre, se cree sirena y no llega a bagre. TIENE UN SENTIMIENTO ASOCIADO DE: -1\n",
      "EL SIGUIENTE TWEET: @yomaira98x dude u have no idea how funny it was \\ud83d\\ude02 TIENE UN SENTIMIENTO ASOCIADO DE: 3\n",
      "EL SIGUIENTE TWEET: RT @PoetryPix: Retweet this tweet for a chance to win a small Lokai Bracelet. MUST BE FOLLOWING. Ends September 24th. http:\\/\\/t.co\\/C1lrUAsFlg TIENE UN SENTIMIENTO ASOCIADO DE: 6\n",
      "EL SIGUIENTE TWEET: Retweet this tweet for a chance to win a small Lokai Bracelet. MUST BE FOLLOWING. Ends September 24th. http:\\/\\/t.co\\/C1lrUAsFlg TIENE UN SENTIMIENTO ASOCIADO DE: 6\n",
      "EL SIGUIENTE TWEET: RT @C_Rivers24: @Calvinminds11 I'm honestly just chilling dude \\ud83d\\ude0c TIENE UN SENTIMIENTO ASOCIADO DE: -1\n",
      "EL SIGUIENTE TWEET: @Calvinminds11 I'm honestly just chilling dude \\ud83d\\ude0c TIENE UN SENTIMIENTO ASOCIADO DE: -1\n",
      "EL SIGUIENTE TWEET: RT @augusto_rando: Si no sab\\u00edas qu\\u00e9 es la inflaci\\u00f3n ahora lo sab\\u00e9s http:\\/\\/t.co\\/7Hu1sjGnMh TIENE UN SENTIMIENTO ASOCIADO DE: -1\n",
      "EL SIGUIENTE TWEET: Si no sab\\u00edas qu\\u00e9 es la inflaci\\u00f3n ahora lo sab\\u00e9s http:\\/\\/t.co\\/7Hu1sjGnMh TIENE UN SENTIMIENTO ASOCIADO DE: -1\n",
      "EL SIGUIENTE TWEET: @JessicaFappit and the winner of the best lunchtime.visual goes to,,,,,,, TIENE UN SENTIMIENTO ASOCIADO DE: 7\n",
      "EL SIGUIENTE TWEET: Paint the town this weekend at @supercrawl! It\\u2019s easy to get to there with GO. http:\\/\\/t.co\\/2Zz0z72zDz #Supercrawl2014 http:\\/\\/t.co\\/rsQpACFL77 TIENE UN SENTIMIENTO ASOCIADO DE: 1\n",
      "EL SIGUIENTE TWEET: Thank god for the GR skywalk!! #lakersthatdontwanttogetwet TIENE UN SENTIMIENTO ASOCIADO DE: 1\n",
      "EL SIGUIENTE TWEET: People at my school think being gay is a choice but if being gay really is a choice why do most gay people including me want to die? pt.1 TIENE UN SENTIMIENTO ASOCIADO DE: 1\n",
      "EL SIGUIENTE TWEET: No olvide nada, solo deje de lado lo que ya no ten\\u00eda arreglo\\ud83d\\udc4c TIENE UN SENTIMIENTO ASOCIADO DE: -1\n",
      "EL SIGUIENTE TWEET: RT @Aliciabissiri: C'est dommage qu'elle dise a tout le monde que \\u00e7a va pas durer... Sauf \\u00e0 Vivian.. #SS8 TIENE UN SENTIMIENTO ASOCIADO DE: -2\n",
      "EL SIGUIENTE TWEET: C'est dommage qu'elle dise a tout le monde que \\u00e7a va pas durer... Sauf \\u00e0 Vivian.. #SS8 TIENE UN SENTIMIENTO ASOCIADO DE: -2\n",
      "EL SIGUIENTE TWEET: @RenoiDuVillage lol tavais grail a la cantine d'o\\u00f9 t'\\u00e9tais max frr ?! TIENE UN SENTIMIENTO ASOCIADO DE: 3\n",
      "EL SIGUIENTE TWEET: I took this preachers sign last year and god willing I'll do it again. TIENE UN SENTIMIENTO ASOCIADO DE: 1\n",
      "EL SIGUIENTE TWEET: I was busy being naked in the forest!!! RT @FieryDaemon: You haven't spoken to your brother yet??? The hell is wrong with you??? TIENE UN SENTIMIENTO ASOCIADO DE: -6\n",
      "EL SIGUIENTE TWEET: @rihanna miss ya TIENE UN SENTIMIENTO ASOCIADO DE: -2\n",
      "EL SIGUIENTE TWEET: Real shit http:\\/\\/t.co\\/3sQK6ILWq7 TIENE UN SENTIMIENTO ASOCIADO DE: -4\n",
      "EL SIGUIENTE TWEET: I thought I would be happy by now TIENE UN SENTIMIENTO ASOCIADO DE: 3\n",
      "EL SIGUIENTE TWEET: RT @LeoQuotez: #Leo's are adventurous because boredom is like a punishment TIENE UN SENTIMIENTO ASOCIADO DE: 4\n",
      "EL SIGUIENTE TWEET: #Leo's are adventurous because boredom is like a punishment TIENE UN SENTIMIENTO ASOCIADO DE: 4\n",
      "EL SIGUIENTE TWEET: RT @BieberAnnual: Retweet if you want to gain just follow everyone who retweets this and follow back who ever follows you TIENE UN SENTIMIENTO ASOCIADO DE: 3\n",
      "EL SIGUIENTE TWEET: Retweet if you want to gain just follow everyone who retweets this and follow back who ever follows you TIENE UN SENTIMIENTO ASOCIADO DE: 3\n",
      "EL SIGUIENTE TWEET: RT @JeremiahTaylorr: happy birthday @MeghanNally \\u2764\\ufe0f\\u2764\\ufe0f imysm i found this in my dropbox\\ud83d\\ude02\\ud83d\\ude02 http:\\/\\/t.co\\/NEFZJVWs6I TIENE UN SENTIMIENTO ASOCIADO DE: 3\n",
      "EL SIGUIENTE TWEET: Being with you is like having every single one of my wishes come true. TIENE UN SENTIMIENTO ASOCIADO DE: 3\n",
      "EL SIGUIENTE TWEET: @Pplschamp2310 At the very least. Her body count has certainly caused the most problems for the club. #SonsOfAnarchy TIENE UN SENTIMIENTO ASOCIADO DE: -2\n",
      "EL SIGUIENTE TWEET: RT @ChochoMartinez1: Cami mientras me cagaba a pedo ,  la abrazaba y no la dejaba ir jajajajaja n.n TIENE UN SENTIMIENTO ASOCIADO DE: -1\n",
      "EL SIGUIENTE TWEET: Cami mientras me cagaba a pedo ,  la abrazaba y no la dejaba ir jajajajaja n.n TIENE UN SENTIMIENTO ASOCIADO DE: -1\n",
      "EL SIGUIENTE TWEET: Happy Birthday to Robbie , @arsenalfantv you offer excellent insight &amp; coverage on The Mighty Arsenal hope you continue to expand &amp; Innovate TIENE UN SENTIMIENTO ASOCIADO DE: 6\n",
      "EL SIGUIENTE TWEET: When she says the dick gets better every time,,,,,,, I have no choice but to do the \\ TIENE UN SENTIMIENTO ASOCIADO DE: -3\n",
      "EL SIGUIENTE TWEET: Dear downstairs neighbros: 1:00 PM on a Wednesday is generally agreed upon as time not meant for turning up. But nice try. TIENE UN SENTIMIENTO ASOCIADO DE: 4\n",
      "EL SIGUIENTE TWEET: RT @Nashgrier: Happy birthday @tfionash I love you soooo much! Thank you for everything, you have no idea how much you mean to me. Hope it'\\u2026 TIENE UN SENTIMIENTO ASOCIADO DE: 2\n",
      "EL SIGUIENTE TWEET: Happy birthday @tfionash I love you soooo much! Thank you for everything, you have no idea how much you mean to me. Hope it's a good one! xx TIENE UN SENTIMIENTO ASOCIADO DE: 5\n",
      "EL SIGUIENTE TWEET: RT @katyperry: Don't forget @hernameisbanks debut record GODDESS came out today &amp; it is MAGNIFICENT! https:\\/\\/t.co\\/Ja42jyk9X7 #dontfuckwitha\\u2026 TIENE UN SENTIMIENTO ASOCIADO DE: -1\n",
      "EL SIGUIENTE TWEET: Don't forget @hernameisbanks debut record GODDESS came out today &amp; it is MAGNIFICENT! https:\\/\\/t.co\\/Ja42jyk9X7 #dontfuckwithagoddess TIENE UN SENTIMIENTO ASOCIADO DE: -1\n",
      "EL SIGUIENTE TWEET: RT @9GAG: My mood depends on how good my hair looks. TIENE UN SENTIMIENTO ASOCIADO DE: 3\n",
      "EL SIGUIENTE TWEET: My mood depends on how good my hair looks. TIENE UN SENTIMIENTO ASOCIADO DE: 3\n",
      "EL SIGUIENTE TWEET: RT @NKsubs: Leeteuk: Yeaaa (gets up)\\nKangin: Hyung, sit down. Really\\nHeechul: Don't be like that to my friend! TIENE UN SENTIMIENTO ASOCIADO DE: 2\n",
      "EL SIGUIENTE TWEET: Leeteuk: Yeaaa (gets up)\\nKangin: Hyung, sit down. Really\\nHeechul: Don't be like that to my friend! TIENE UN SENTIMIENTO ASOCIADO DE: 2\n",
      "EL SIGUIENTE TWEET: Just waking up in the morning gotta thank G O D \\u2764\\ufe0f\\u2764\\ufe0f\\u2764\\ufe0f\\u2764\\ufe0f\\u2764\\ufe0f\\ud83d\\ude4f\\ud83d\\ude4f TIENE UN SENTIMIENTO ASOCIADO DE: 2\n"
     ]
    }
   ],
   "source": [
    "# Un doble bucle \"for\" recorrerá la lista de tweets y la lista de clavves del diccionario,buscando coincidencias con las claves\n",
    "for tweet in list_of_tweets:\n",
    "    puntos=0\n",
    "    for palabra in (valores.keys()):\n",
    "        if str(\" \"+palabra+\" \") in tweet:\n",
    "            puntos=puntos+valores[palabra]\n",
    "    if puntos != 0 :\n",
    "        print (\"EL SIGUIENTE TWEET:\",tweet, \"TIENE UN SENTIMIENTO ASOCIADO DE:\", puntos)\n",
    "    \n",
    "       "
   ]
  },
  {
   "cell_type": "code",
   "execution_count": null,
   "metadata": {
    "collapsed": true
   },
   "outputs": [],
   "source": []
  }
 ],
 "metadata": {
  "kernelspec": {
   "display_name": "Python 3",
   "language": "python",
   "name": "python3"
  },
  "language_info": {
   "codemirror_mode": {
    "name": "ipython",
    "version": 3
   },
   "file_extension": ".py",
   "mimetype": "text/x-python",
   "name": "python",
   "nbconvert_exporter": "python",
   "pygments_lexer": "ipython3",
   "version": "3.6.3"
  }
 },
 "nbformat": 4,
 "nbformat_minor": 2
}
